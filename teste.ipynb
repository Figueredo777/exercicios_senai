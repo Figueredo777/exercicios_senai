{
 "cells": [
  {
   "cell_type": "code",
   "execution_count": 24,
   "id": "a6048520",
   "metadata": {},
   "outputs": [],
   "source": [
    "tarefas = {\n",
    "    \"Tarefas\": [\"Limpar a casa\", \"Arrumar o quarto\", \"Lavar a louça\"],\n",
    "    \"Datas\": [\"01/07\", \"02/07\", \"03/07\"]\n",
    "}"
   ]
  },
  {
   "cell_type": "code",
   "execution_count": 22,
   "id": "d8b939cc",
   "metadata": {},
   "outputs": [],
   "source": [
    "nova_tarefa = input(\"Adicione a tarefa\")\n",
    "tarefas[\"Tarefas\"].append(nova_tarefa)\n",
    "\n",
    "nova_data = input(\"Adicione a data\")\n",
    "tarefas[\"Datas\"].append(nova_data)"
   ]
  },
  {
   "cell_type": "code",
   "execution_count": null,
   "id": "5f1941d9",
   "metadata": {},
   "outputs": [],
   "source": []
  },
  {
   "cell_type": "code",
   "execution_count": 26,
   "id": "bd66659e",
   "metadata": {},
   "outputs": [
    {
     "name": "stdout",
     "output_type": "stream",
     "text": [
      "A tarefa Limpar a casa foi removida com sucesso! \n"
     ]
    }
   ],
   "source": [
    "numero_tarefa = int(input(\"Digite o número da tarefa\"))\n",
    "tarefa_removida = tarefas[\"Tarefas\"].pop(numero_tarefa - 1)\n",
    "tarefas[\"Datas\"].pop(numero_tarefa - 1)\n",
    "print(f\"A tarefa {tarefa_removida} foi removida com sucesso! \")"
   ]
  },
  {
   "cell_type": "code",
   "execution_count": 19,
   "id": "da0bbccf",
   "metadata": {},
   "outputs": [
    {
     "data": {
      "text/plain": [
       "['Limpar a casa',\n",
       " 'Arrumar o quarto',\n",
       " 'Lavar a louça',\n",
       " 'Lavar o carro',\n",
       " 'Lavar o carro',\n",
       " 'limpa a casa do cachorro',\n",
       " 'lavar o banehiro',\n",
       " 'limpar a sala',\n",
       " 'lavar o cabelo']"
      ]
     },
     "execution_count": 19,
     "metadata": {},
     "output_type": "execute_result"
    }
   ],
   "source": [
    "tarefas[\"Tarefas\"]\n"
   ]
  }
 ],
 "metadata": {
  "kernelspec": {
   "display_name": "Python 3",
   "language": "python",
   "name": "python3"
  },
  "language_info": {
   "codemirror_mode": {
    "name": "ipython",
    "version": 3
   },
   "file_extension": ".py",
   "mimetype": "text/x-python",
   "name": "python",
   "nbconvert_exporter": "python",
   "pygments_lexer": "ipython3",
   "version": "3.13.2"
  }
 },
 "nbformat": 4,
 "nbformat_minor": 5
}
